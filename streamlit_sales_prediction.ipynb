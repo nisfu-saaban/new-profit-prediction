{
  "nbformat": 4,
  "nbformat_minor": 0,
  "metadata": {
    "colab": {
      "provenance": []
    },
    "kernelspec": {
      "name": "python3",
      "display_name": "Python 3"
    },
    "language_info": {
      "name": "python"
    }
  },
  "cells": [
    {
      "cell_type": "code",
      "source": [
        "!pip install -q streamlit"
      ],
      "metadata": {
        "colab": {
          "base_uri": "https://localhost:8080/"
        },
        "id": "wex_I2B6e7ZR",
        "outputId": "d6c3bc48-6d66-45b7-dd35-0c3047ed0773"
      },
      "execution_count": 2,
      "outputs": [
        {
          "output_type": "stream",
          "name": "stdout",
          "text": [
            "\u001b[2K     \u001b[90m━━━━━━━━━━━━━━━━━━━━━━━━━━━━━━━━━━━━━━━━\u001b[0m \u001b[32m44.3/44.3 kB\u001b[0m \u001b[31m3.5 MB/s\u001b[0m eta \u001b[36m0:00:00\u001b[0m\n",
            "\u001b[2K   \u001b[90m━━━━━━━━━━━━━━━━━━━━━━━━━━━━━━━━━━━━━━━━\u001b[0m \u001b[32m9.9/9.9 MB\u001b[0m \u001b[31m101.3 MB/s\u001b[0m eta \u001b[36m0:00:00\u001b[0m\n",
            "\u001b[2K   \u001b[90m━━━━━━━━━━━━━━━━━━━━━━━━━━━━━━━━━━━━━━━━\u001b[0m \u001b[32m6.9/6.9 MB\u001b[0m \u001b[31m116.2 MB/s\u001b[0m eta \u001b[36m0:00:00\u001b[0m\n",
            "\u001b[2K   \u001b[90m━━━━━━━━━━━━━━━━━━━━━━━━━━━━━━━━━━━━━━━━\u001b[0m \u001b[32m79.1/79.1 kB\u001b[0m \u001b[31m6.0 MB/s\u001b[0m eta \u001b[36m0:00:00\u001b[0m\n",
            "\u001b[?25h"
          ]
        }
      ]
    },
    {
      "cell_type": "code",
      "execution_count": 3,
      "metadata": {
        "colab": {
          "base_uri": "https://localhost:8080/"
        },
        "id": "4ZvcHne3Vqts",
        "outputId": "41db252e-7bac-47a4-d7b6-d6c9b27b094b"
      },
      "outputs": [
        {
          "output_type": "stream",
          "name": "stderr",
          "text": [
            "2025-05-13 02:31:59.746 WARNING streamlit.runtime.scriptrunner_utils.script_run_context: Thread 'MainThread': missing ScriptRunContext! This warning can be ignored when running in bare mode.\n",
            "2025-05-13 02:31:59.748 WARNING streamlit.runtime.scriptrunner_utils.script_run_context: Thread 'MainThread': missing ScriptRunContext! This warning can be ignored when running in bare mode.\n",
            "2025-05-13 02:31:59.902 \n",
            "  \u001b[33m\u001b[1mWarning:\u001b[0m to view this Streamlit app on a browser, run it with the following\n",
            "  command:\n",
            "\n",
            "    streamlit run /usr/local/lib/python3.11/dist-packages/colab_kernel_launcher.py [ARGUMENTS]\n",
            "2025-05-13 02:31:59.903 Thread 'MainThread': missing ScriptRunContext! This warning can be ignored when running in bare mode.\n",
            "2025-05-13 02:31:59.904 Thread 'MainThread': missing ScriptRunContext! This warning can be ignored when running in bare mode.\n",
            "2025-05-13 02:31:59.908 Thread 'MainThread': missing ScriptRunContext! This warning can be ignored when running in bare mode.\n",
            "2025-05-13 02:31:59.909 Thread 'MainThread': missing ScriptRunContext! This warning can be ignored when running in bare mode.\n",
            "2025-05-13 02:31:59.910 Thread 'MainThread': missing ScriptRunContext! This warning can be ignored when running in bare mode.\n",
            "2025-05-13 02:31:59.911 Thread 'MainThread': missing ScriptRunContext! This warning can be ignored when running in bare mode.\n"
          ]
        }
      ],
      "source": [
        "import streamlit as st\n",
        "import pandas as pd\n",
        "import joblib\n",
        "from sklearn.model_selection import train_test_split\n",
        "from sklearn.metrics import mean_squared_error\n",
        "\n",
        "st.set_page_config(layout='wide')\n",
        "st.title('Prediction Monthly Item')\n",
        "\n",
        "#upload data\n",
        "upload_file = st.file_uploader(\"Upload Your CSV file\", type=['csv'])\n",
        "if upload_file:\n",
        "  df = pd.read_csv(upload_file)\n",
        "  df = df.drop(columns=['Unnamed: 0'])\n",
        "  df['Order_Date'] = pd.to_datetime(df['Order_Date'], errors='coerce')\n",
        "  df = df.dropna(subset=['Order_Date', 'Profit'])\n",
        "  df['Month'] = df['Order_Date'].dt.to_period('M')\n",
        "\n",
        "  next_month_input = (\n",
        "    monthly_data.groupby(['Sub-Category', 'State', 'City'])\n",
        "    .agg({'Quantity': 'mean', 'Amount': 'mean'})\n",
        "    .reset_index()\n",
        "  )\n",
        "\n",
        "  X_future = pd.get_dummies(next_month_input)\n",
        "  X_future = X_future.reindex(columns=X.columns, fill_value=0)\n",
        "\n",
        "  model = joblib.load('/drive/MyDrive/model/profit_model.pkl')\n",
        "\n",
        "  future_profit = model.predict(X_future)\n",
        "  next_month_input['Predicted_Profit'] = future_profit\n",
        "\n",
        "  top10 = next_month_input.sort_values(by='Predicted_Profit', ascending=False).head(10)\n",
        "\n",
        "  st.dataframe(top10)\n"
      ]
    }
  ]
}